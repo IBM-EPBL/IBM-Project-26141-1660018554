{
  "metadata": {
    "language_info": {
      "codemirror_mode": {
        "name": "python",
        "version": 3
      },
      "file_extension": ".py",
      "mimetype": "text/x-python",
      "name": "python",
      "nbconvert_exporter": "python",
      "pygments_lexer": "ipython3",
      "version": "3.8"
    },
    "kernelspec": {
      "name": "python",
      "display_name": "Python (Pyodide)",
      "language": "python"
    }
  },
  "nbformat_minor": 4,
  "nbformat": 4,
  "cells": [
    {
      "cell_type": "code",
      "source": "Write a Program to test a give number is prime or not",
      "metadata": {},
      "execution_count": null,
      "outputs": []
    },
    {
      "cell_type": "code",
      "source": "# Program to check if a number is prime or not\n\nnum = 29\n\n# To take input from the user\n#num = int(input(\"Enter a number: \"))\n\n# define a flag variable\nflag = False\n\n# prime numbers are greater than 1\nif num > 1:\n    # check for factors\n    for i in range(2, num):\n        if (num % i) == 0:\n            # if factor is found, set flag to True\n            flag = True\n            # break out of loop\n            break\n\n# check if flag is True\nif flag:\n    print(num, \"is not a prime number\")\nelse:\n    print(num, \"is a prime number\")",
      "metadata": {
        "trusted": true
      },
      "execution_count": 1,
      "outputs": [
        {
          "name": "stdout",
          "text": "29 is a prime number\n",
          "output_type": "stream"
        }
      ]
    },
    {
      "cell_type": "code",
      "source": "Write a program to generate odd numbers from m to n using while loop ",
      "metadata": {},
      "execution_count": null,
      "outputs": []
    },
    {
      "cell_type": "code",
      "source": "# Python program to print odd Numbers in given range\n \nstart, end = 4, 19\n \n# iterating each number in list\nfor num in range(start, end + 1):\n     \n    # checking condition\n    if num % 2 != 0:\n        print(num, end = \" \")",
      "metadata": {
        "trusted": true
      },
      "execution_count": 2,
      "outputs": [
        {
          "name": "stdout",
          "text": "5 7 9 11 13 15 17 19 ",
          "output_type": "stream"
        }
      ]
    },
    {
      "cell_type": "code",
      "source": "Write a python program to display prime number series up to given number",
      "metadata": {},
      "execution_count": null,
      "outputs": []
    },
    {
      "cell_type": "code",
      "source": "# Program to check if a number is prime or not\n\nnum = 29\n\n# To take input from the user\n#num = int(input(\"Enter a number: \"))\n\n# define a flag variable\nflag = False\n\n# prime numbers are greater than 1\nif num > 1:\n    # check for factors\n    for i in range(2, num):\n        if (num % i) == 0:\n            # if factor is found, set flag to True\n            flag = True\n            # break out of loop\n            break\n\n# check if flag is True\nif flag:\n    print(num, \"is not a prime number\")\nelse:\n    print(num, \"is a prime number\")\n",
      "metadata": {
        "trusted": true
      },
      "execution_count": 3,
      "outputs": [
        {
          "name": "stdout",
          "text": "29 is a prime number\n",
          "output_type": "stream"
        }
      ]
    },
    {
      "cell_type": "code",
      "source": "Write a python program to generaten fibonacci series",
      "metadata": {},
      "execution_count": null,
      "outputs": []
    },
    {
      "cell_type": "code",
      "source": "# Function for nth Fibonacci number\ndef Fibonacci(n):\n\n\t# Check if input is 0 then it will\n\t# print incorrect input\n\tif n < 0:\n\t\tprint(\"Incorrect input\")\n\n\t# Check if n is 0\n\t# then it will return 0\n\telif n == 0:\n\t\treturn 0\n\n\t# Check if n is 1,2\n\t# it will return 1\n\telif n == 1 or n == 2:\n\t\treturn 1\n\n\telse:\n\t\treturn Fibonacci(n-1) + Fibonacci(n-2)\n\n# Driver Program\nprint(Fibonacci(9))\n\n# This code is contributed by Saket Modi\n# then corrected and improved by Himanshu Kanojiya\n",
      "metadata": {
        "trusted": true
      },
      "execution_count": 5,
      "outputs": [
        {
          "name": "stdout",
          "text": "34\n",
          "output_type": "stream"
        }
      ]
    },
    {
      "cell_type": "code",
      "source": "",
      "metadata": {},
      "execution_count": null,
      "outputs": []
    }
  ]
}